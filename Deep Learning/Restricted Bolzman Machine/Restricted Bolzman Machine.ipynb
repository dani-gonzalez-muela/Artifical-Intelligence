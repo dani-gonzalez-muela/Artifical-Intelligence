{
 "cells": [
  {
   "cell_type": "code",
   "execution_count": 214,
   "id": "608c405e",
   "metadata": {},
   "outputs": [],
   "source": [
    "import numpy as np\n",
    "import random\n",
    "import math\n",
    "import itertools\n",
    "import numpy as np"
   ]
  },
  {
   "cell_type": "markdown",
   "id": "1cdcbe10",
   "metadata": {},
   "source": [
    "1. Read Data"
   ]
  },
  {
   "cell_type": "code",
   "execution_count": 216,
   "id": "d99f79d5",
   "metadata": {},
   "outputs": [],
   "source": [
    "x1=[-1,-1,1]\n",
    "x2=[1,-1,1]\n",
    "x3=[-1,1,1]\n",
    "x4=[1,1,-1]\n",
    "x1 = np.array([[-1], [-1], [1]])\n",
    "x2 = np.array([[1], [-1], [1]])\n",
    "x3 = np.array([[-1], [1], [1]])\n",
    "x4 = np.array([[1], [1], [-1]])\n",
    "\n",
    "patterns=[x1,x2,x3,x4]"
   ]
  },
  {
   "cell_type": "markdown",
   "id": "fb460e4b",
   "metadata": {},
   "source": [
    "2. Train"
   ]
  },
  {
   "cell_type": "code",
   "execution_count": 286,
   "id": "578a91d9",
   "metadata": {},
   "outputs": [],
   "source": [
    "#probability\n",
    "def probability(b):\n",
    "    return 1/(1+np.exp(-2*b))\n",
    "\n",
    "#init parameters\n",
    "#Data inputs ar column vectors (3x1)\n",
    "#Weights are Mx3\n",
    "def init(M):\n",
    "    std=np.sqrt(max(M,3))\n",
    "    W = np.random.normal(loc=0.0, scale=1.0/std, size=(M, 3))\n",
    "    np.fill_diagonal(W, 0)\n",
    "    threshold_hidden = np.zeros((M, 1))  # Shape (M, 1)\n",
    "    threshold_visible = np.zeros((3, 1))  # Shape (3, 1)\n",
    "    \n",
    "    return W,threshold_hidden,threshold_visible\n",
    "\n",
    "#Train\n",
    "#hidden output:h 3x1\n",
    "#visible output:v 3x1\n",
    "#b_v: hidden neuron 3x1\n",
    "#b_h: hidden neuron 3x1\n",
    "def train(M,k,v_max,learning_rate,W,threshold_hidden,threshold_visible):\n",
    "    for epoch in range(vmax):#\n",
    "        #sample p patterns without repetition\n",
    "        pattern_sample=random.choices(patterns,k=k)\n",
    "\n",
    "        for mu in patterns:\n",
    "            #to store updates\n",
    "            b_v=[] #b visible\n",
    "            b_h=[] #b hidden\n",
    "            s_v=[] #state of v after activation(b_v)\n",
    "            s_h=[]\n",
    "\n",
    "            #set pattern s_v(0)\n",
    "            sv=mu\n",
    "            s_v.append(sv)\n",
    "\n",
    "            #update hidden b_h(0)\n",
    "            bh=W@sv - threshold_hidden #8x1\n",
    "            b_h.append(bh)\n",
    "\n",
    "            #s_h(0)\n",
    "            sh=bh.copy()\n",
    "            for i in range(M):\n",
    "                #activate or desactive i with probability b\n",
    "                p_bh=probability(bh[i])\n",
    "                h_i= 1 if np.random.rand() < p_bh else -1\n",
    "                sh[i][0]=h_i\n",
    "            s_h.append(sh)\n",
    "\n",
    "            for t in range(k):\n",
    "                #update visible neurons (start with b_v(0))\n",
    "                bv=W.T@sh - threshold_visible #3x1\n",
    "                b_v.append(bv)\n",
    "                #compute s_v starting with s_v(1)\n",
    "                sv=bv.copy()\n",
    "                for j in range(3):\n",
    "                    p_bv=probability(bv[j])\n",
    "                    v_j= 1 if np.random.rand() < p_bv else -1\n",
    "                    sv[j][0]=v_j\n",
    "                s_v.append(sv)\n",
    "\n",
    "                #update hidden neurons (follows b_h(1))\n",
    "                bh=W@sv - threshold_hidden #8x1\n",
    "                b_h.append(bh)\n",
    "                sh=bh.copy()\n",
    "                for i in range(M):\n",
    "                    p_bh=probability(bh[i])\n",
    "                    h_i= 1 if np.random.rand() < p_bh else -1\n",
    "                    sh[i][0]=h_i\n",
    "                s_h.append(sh)\n",
    "\n",
    "            #update parameters for each pattern\n",
    "            delta_w = np.zeros((M, 3))\n",
    "            for i in range(M):\n",
    "                for j in range(3):\n",
    "                    part1=math.tanh(b_h[0][i])*s_v[0][j]\n",
    "                    part2=math.tanh(b_h[-1][i])*s_v[-1][j]\n",
    "                    update=(learning_rate*(part1-part2))\n",
    "                    delta_w[i][j]=update\n",
    "            W=W+delta_w\n",
    "\n",
    "            delta_threshold_visible=np.zeros((3,1))\n",
    "            for i in range(3):\n",
    "                delta_threshold_visible[i]=-learning_rate*(math.tanh(s_v[0][i])-\n",
    "                                                           math.tanh(s_v[-1][i]))\n",
    "            threshold_visible=threshold_visible+delta_threshold_visible\n",
    "\n",
    "            delta_threshold_hidden=np.zeros((M,1))\n",
    "            for i in range(M):\n",
    "                delta_threshold_hidden[i]=-learning_rate*(math.tanh(b_h[0][i])\n",
    "                                                          -math.tanh(b_h[-1][i]))\n",
    "            threshold_hidden=threshold_hidden+delta_threshold_hidden\n",
    "    \n",
    "    return W,threshold_hidden,threshold_visible\n",
    "\n",
    "#Test\n",
    "M=1 #Hidden neurons\n",
    "k=20\n",
    "v_max=10000\n",
    "learning_rate=0.005\n",
    "\n",
    "W,threshold_hidden,threshold_visible=init(M)\n",
    "W,threshold_hidden,threshold_visible=train(M,k,v_max,learning_rate,W,threshold_hidden,threshold_visible)"
   ]
  },
  {
   "cell_type": "markdown",
   "id": "8504ae03",
   "metadata": {},
   "source": [
    "3. Iterate dynamics and get Pdata"
   ]
  },
  {
   "cell_type": "code",
   "execution_count": 300,
   "id": "e3f5feb9",
   "metadata": {},
   "outputs": [],
   "source": [
    "#data is one point\n",
    "def iterate_dynamics(data,W,threshold_hidden,threshold_visible):\n",
    "    v=data\n",
    "    \n",
    "    #hidden\n",
    "    bh=W@v - threshold_hidden\n",
    "    sh=bh.copy()\n",
    "    M=W.shape[0]\n",
    "    for i in range(M):\n",
    "        #activate or desactive i with probability b\n",
    "        p_bh=probability(bh[i])\n",
    "        h_i= 1 if np.random.rand() < p_bh else -1\n",
    "        sh[i][0]=h_i\n",
    "    \n",
    "    #Output\n",
    "    bv=W.T@sh - threshold_visible #3x1\n",
    "    sv=bv.copy()\n",
    "    for j in range(3):\n",
    "        p_bv=probability(bv[j])\n",
    "        v_j= 1 if np.random.rand() < p_bv else -1\n",
    "        sv[j][0]=v_j\n",
    "        \n",
    "    return sv\n",
    "\n",
    "#sample pbolzman after many iterations\n",
    "def pbolzman(init_point,iterations,W,threshold_hidden,threshold_visible):\n",
    "    x1_count=0\n",
    "    x2_count=0\n",
    "    x3_count=0\n",
    "    x4_count=0\n",
    "\n",
    "    point=iterate_dynamics(init_point,W,threshold_hidden,threshold_visible)\n",
    "\n",
    "    for i in range(iterations):\n",
    "        point=iterate_dynamics(point,W,threshold_hidden,threshold_visible)\n",
    "        \n",
    "        if (point==x1).all():\n",
    "            x1_count+=1\n",
    "        elif (point==x2).all():\n",
    "            x2_count+=1\n",
    "        elif (point==x3).all():\n",
    "            x3_count+=1\n",
    "        elif (point==x4).all():\n",
    "            x4_count+=1\n",
    "\n",
    "    #tot=x1_count+x2_count+x3_count+x4_count\n",
    "    x1_count=x1_count/iterations\n",
    "    x2_count=x2_count/iterations\n",
    "    x3_count=x3_count/iterations\n",
    "    x4_count=x4_count/iterations\n",
    "    \n",
    "    return x1_count,x2_count,x3_count,x4_count\n",
    "\n",
    "#TEST\n",
    "p1,p2,p3,p4 = pbolzman(x3.copy(),50000,W,threshold_hidden,threshold_visible)"
   ]
  },
  {
   "cell_type": "markdown",
   "id": "c373e18c",
   "metadata": {},
   "source": [
    "4. Compute divergence for different simulations and M"
   ]
  },
  {
   "cell_type": "code",
   "execution_count": 209,
   "id": "4f3fe6ef",
   "metadata": {},
   "outputs": [
    {
     "name": "stdout",
     "output_type": "stream",
     "text": [
      "1\n",
      "2\n",
      "3\n",
      "4\n",
      "5\n",
      "6\n",
      "7\n",
      "8\n"
     ]
    }
   ],
   "source": [
    "M=[1,2,3,4,5,6,7,8]\n",
    "simulations=20\n",
    "\n",
    "k=20 #batch\n",
    "v_max=10000\n",
    "learning_rate=0.005\n",
    "\n",
    "results=[]\n",
    "for m in M:\n",
    "    \n",
    "    #compute divervenge various times\n",
    "    divergences=[]\n",
    "    \n",
    "    for simulation in range(simulations):\n",
    "               \n",
    "        #init and train\n",
    "        W,threshold_hidden,threshold_visible=init(m)\n",
    "        W,threshold_hidden,threshold_visible=train(m,k,v_max,learning_rate,W,threshold_hidden,threshold_visible)\n",
    "\n",
    "        #get pbolzman sampling\n",
    "        p1,p2,p3,p4 = pbolzman(x1.copy(),100000,W,threshold_hidden,threshold_visible)\n",
    "        probs=[p1,p2,p3,p4]\n",
    "\n",
    "        #compute divergence\n",
    "        divergence=0\n",
    "        for p in probs:\n",
    "            divergence += 0.25*np.log(0.25/p)\n",
    "\n",
    "        divergences.append(divergence)\n",
    "        \n",
    "    results.append(divergences)\n",
    "    print(m)\n",
    "        \n",
    "    \n"
   ]
  },
  {
   "cell_type": "markdown",
   "id": "6e126faa",
   "metadata": {},
   "source": [
    "5. Compute upper bound"
   ]
  },
  {
   "cell_type": "code",
   "execution_count": 310,
   "id": "e9032030",
   "metadata": {},
   "outputs": [
    {
     "name": "stdout",
     "output_type": "stream",
     "text": [
      "DKL: 0.34657359027997264\n"
     ]
    }
   ],
   "source": [
    "def calculate_DKL(N, M):\n",
    "    # Check the condition for M\n",
    "    threshold = 2**(N-1) - 1\n",
    "    \n",
    "    if M < threshold:\n",
    "        # Floor of log2(M + 1)\n",
    "        log_floor = math.floor(math.log2(M + 1))\n",
    "        # Calculate DKL\n",
    "        DKL = N - log_floor - (M + 1) / (2 ** log_floor)\n",
    "        \n",
    "    else:\n",
    "        # If M >= 2^(N-1) - 1, DKL is 0\n",
    "        return 0\n",
    "    \n",
    "    return np.log(2)*DKL\n",
    "\n",
    "# Example usage:\n",
    "N = 3\n",
    "M = 2\n",
    "result = calculate_DKL(N, 2)\n",
    "print(f\"DKL: {result}\")"
   ]
  },
  {
   "cell_type": "markdown",
   "id": "2c2bce06",
   "metadata": {},
   "source": [
    "6. Plot Results"
   ]
  },
  {
   "cell_type": "code",
   "execution_count": 307,
   "id": "3e866cb8",
   "metadata": {},
   "outputs": [
    {
     "data": {
      "image/png": "[encoded data removed]",
      "text/plain": [
       "<Figure size 576x432 with 1 Axes>"
      ]
     },
     "metadata": {
      "needs_background": "light"
     },
     "output_type": "display_data"
    }
   ],
   "source": [
    "# M values\n",
    "M=[1,2,3,4,5,6,7,8]\n",
    "#print(M_values)\n",
    "#print(results)\n",
    "\n",
    "# Check if M and results have the same length\n",
    "if len(M) != len(results):\n",
    "    raise ValueError(\"The length of M and results must be the same.\")\n",
    "\n",
    "# Create a dot plot\n",
    "plt.figure(figsize=(8, 6))\n",
    "\n",
    "# Define x positions for M labels\n",
    "x_positions = range(len(M))\n",
    "\n",
    "# Loop through each value of M and its corresponding results\n",
    "for i, (x_pos, M_value) in enumerate(zip(x_positions, M)):\n",
    "    # Plot all results for the current M value at the given x position\n",
    "    plt.scatter([x_pos] * len(results[i]), results[i], color='blue', label=f'Results for M' if i == 0 else \"\")\n",
    "\n",
    "    # Compute DKL(M, 2) for the current M value\n",
    "    dkl_value = calculate_DKL(3, M_value)\n",
    "    # Plot the red line for the DKL value at the current x position\n",
    "    plt.plot([x_pos - 0.2, x_pos + 0.2], [dkl_value, dkl_value], color='red', linewidth=2, label=f'DKL Upper Bound' if i == 0 else \"\")\n",
    "\n",
    "# Set x-ticks to the custom positions and label them with the corresponding M values\n",
    "plt.xticks(x_positions, M)\n",
    "\n",
    "# Add labels and legend\n",
    "plt.xlabel('M')\n",
    "plt.ylabel('Simulation Results')\n",
    "plt.title('Dot Plot of Simulation Results for Different Levels of M')\n",
    "plt.ylim(0,0.3)\n",
    "plt.grid(True)\n",
    "plt.legend()\n",
    "plt.show()"
   ]
  },
  {
   "cell_type": "code",
   "execution_count": 276,
   "id": "23a07c1b",
   "metadata": {},
   "outputs": [
    {
     "name": "stdout",
     "output_type": "stream",
     "text": [
      "Mean of results for M = 1: 0.18\n",
      "Mean of results for M = 2: 0.11\n",
      "Mean of results for M = 3: 0.07\n",
      "Mean of results for M = 4: 0.06\n",
      "Mean of results for M = 5: 0.06\n",
      "Mean of results for M = 6: 0.06\n",
      "Mean of results for M = 7: 0.06\n",
      "Mean of results for M = 8: 0.06\n"
     ]
    }
   ],
   "source": [
    "# Loop through each value of M and its corresponding results\n",
    "for M, result in zip(M_values, results):\n",
    "    # Calculate the mean of the current result set\n",
    "    mean_result = np.mean(result)\n",
    "    \n",
    "    # Print the mean\n",
    "    print(f'Mean of results for M = {M}: {mean_result:.2f}')"
   ]
  },
  {
   "cell_type": "code",
   "execution_count": null,
   "id": "4c831174",
   "metadata": {},
   "outputs": [],
   "source": []
  }
 ],
 "metadata": {
  "kernelspec": {
   "display_name": "Python 3 (ipykernel)",
   "language": "python",
   "name": "python3"
  },
  "language_info": {
   "codemirror_mode": {
    "name": "ipython",
    "version": 3
   },
   "file_extension": ".py",
   "mimetype": "text/x-python",
   "name": "python",
   "nbconvert_exporter": "python",
   "pygments_lexer": "ipython3",
   "version": "3.9.12"
  }
 },
 "nbformat": 4,
 "nbformat_minor": 5
}
